{
 "cells": [
  {
   "cell_type": "code",
   "execution_count": 1,
   "id": "f8318ec3",
   "metadata": {},
   "outputs": [],
   "source": [
    "from langchain_community.tools.tavily_search import TavilySearchResults\n",
    "from dotenv import load_dotenv\n",
    "import os"
   ]
  },
  {
   "cell_type": "code",
   "execution_count": 2,
   "id": "8b4024b5",
   "metadata": {},
   "outputs": [],
   "source": [
    "tavily_api_key = os.getenv('TAVILY_API_KEY')\n",
    "\n",
    "os.environ['TAVILY_API_KEY'] = tavily_api_key"
   ]
  },
  {
   "cell_type": "code",
   "execution_count": 6,
   "id": "c18f0ef8",
   "metadata": {},
   "outputs": [],
   "source": [
    "def tavily_data(query: str):\n",
    "    try:\n",
    "        tool = TavilySearchResults(\n",
    "            max_results=5,\n",
    "            include_domains=[\n",
    "                \"https://crypto.news/\",\n",
    "                \"https://cointelegraph.com/\",\n",
    "                \"https://dexscreener.com/\"\n",
    "            ],\n",
    "            include_images=False,\n",
    "            include_videos=False,\n",
    "            include_links=True\n",
    "        )\n",
    "        results = tool.invoke(query)\n",
    "\n",
    "        if not isinstance(results, list):\n",
    "            raise ValueError(\"Unexpected result format: Expected a list.\")\n",
    "\n",
    "        filtered_results = [\n",
    "            {\"title\": item.get(\"title\", \"No Title\"), \"content\": item.get(\"content\", \"No Content\")}\n",
    "            for item in results\n",
    "        ]\n",
    "\n",
    "        return filtered_results\n",
    "\n",
    "    except Exception as e:\n",
    "        print(f\"Error occurred in tavily_data: {e}\")\n",
    "        return results"
   ]
  },
  {
   "cell_type": "code",
   "execution_count": null,
   "id": "80e94056",
   "metadata": {},
   "outputs": [],
   "source": []
  },
  {
   "cell_type": "code",
   "execution_count": 7,
   "id": "7448f6ca",
   "metadata": {},
   "outputs": [
    {
     "data": {
      "text/plain": [
       "[]"
      ]
     },
     "execution_count": 7,
     "metadata": {},
     "output_type": "execute_result"
    }
   ],
   "source": [
    "tavily_data(\"sldjkfhlksdhgiosuhvnspiohjtiojmovmsd[dmf0p[]osdjgjuioshdfiosdjfpsd[djgsdohnfgjksdjfmsdopmfvosjngpsdoid]]\")"
   ]
  },
  {
   "cell_type": "code",
   "execution_count": null,
   "id": "a511c136",
   "metadata": {},
   "outputs": [],
   "source": []
  }
 ],
 "metadata": {
  "kernelspec": {
   "display_name": "mop",
   "language": "python",
   "name": "python3"
  },
  "language_info": {
   "codemirror_mode": {
    "name": "ipython",
    "version": 3
   },
   "file_extension": ".py",
   "mimetype": "text/x-python",
   "name": "python",
   "nbconvert_exporter": "python",
   "pygments_lexer": "ipython3",
   "version": "3.10.16"
  }
 },
 "nbformat": 4,
 "nbformat_minor": 5
}
