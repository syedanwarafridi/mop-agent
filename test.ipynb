{
 "cells": [
  {
   "cell_type": "code",
   "execution_count": 1,
   "id": "f8318ec3",
   "metadata": {},
   "outputs": [],
   "source": [
    "from langchain_community.tools.tavily_search import TavilySearchResults\n",
    "from dotenv import load_dotenv\n",
    "import os"
   ]
  },
  {
   "cell_type": "code",
   "execution_count": 2,
   "id": "8b4024b5",
   "metadata": {},
   "outputs": [],
   "source": [
    "tavily_api_key = os.getenv('TAVILY_API_KEY')\n",
    "\n",
    "os.environ['TAVILY_API_KEY'] = tavily_api_key"
   ]
  },
  {
   "cell_type": "code",
   "execution_count": 6,
   "id": "c18f0ef8",
   "metadata": {},
   "outputs": [],
   "source": [
    "def tavily_data(query: str):\n",
    "    try:\n",
    "        tool = TavilySearchResults(\n",
    "            max_results=5,\n",
    "            include_domains=[\n",
    "                \"https://crypto.news/\",\n",
    "                \"https://cointelegraph.com/\",\n",
    "                \"https://dexscreener.com/\"\n",
    "            ],\n",
    "            include_images=False,\n",
    "            include_videos=False,\n",
    "            include_links=True\n",
    "        )\n",
    "        results = tool.invoke(query)\n",
    "\n",
    "        if not isinstance(results, list):\n",
    "            raise ValueError(\"Unexpected result format: Expected a list.\")\n",
    "\n",
    "        filtered_results = [\n",
    "            {\"title\": item.get(\"title\", \"No Title\"), \"content\": item.get(\"content\", \"No Content\")}\n",
    "            for item in results\n",
    "        ]\n",
    "\n",
    "        return filtered_results\n",
    "\n",
    "    except Exception as e:\n",
    "        print(f\"Error occurred in tavily_data: {e}\")\n",
    "        return results"
   ]
  },
  {
   "cell_type": "code",
   "execution_count": null,
   "id": "80e94056",
   "metadata": {},
   "outputs": [],
   "source": []
  },
  {
   "cell_type": "code",
   "execution_count": 7,
   "id": "7448f6ca",
   "metadata": {},
   "outputs": [
    {
     "data": {
      "text/plain": [
       "[]"
      ]
     },
     "execution_count": 7,
     "metadata": {},
     "output_type": "execute_result"
    }
   ],
   "source": [
    "tavily_data(\"sldjkfhlksdhgiosuhvnspiohjtiojmovmsd[dmf0p[]osdjgjuioshdfiosdjfpsd[djgsdohnfgjksdjfmsdopmfvosjngpsdoid]]\")"
   ]
  },
  {
   "cell_type": "code",
   "execution_count": 56,
   "id": "a511c136",
   "metadata": {},
   "outputs": [],
   "source": [
    "import json\n",
    "from openai import OpenAI\n"
   ]
  },
  {
   "cell_type": "code",
   "execution_count": 70,
   "id": "6975328b",
   "metadata": {},
   "outputs": [],
   "source": [
    "text = \"\"\"id\": 7278,\n",
    "            \"name\": \"Aave\",\n",
    "            \"symbol\": \"AAVE\",\n",
    "            \"slug\": \"aave\",\n",
    "            \"num_market_pairs\": 1080,\n",
    "            \"date_added\": \"2020-10-02T00:00:00.000Z\",\n",
    "            \"tags\": [\n",
    "                \"defi\",\n",
    "                \"dao\",\n",
    "                \"ethereum-ecosystem\",\n",
    "                \"yield-farming\",\n",
    "                \"three-arrows-capital-portfolio\",\n",
    "                \"governance\",\n",
    "                \"heco-ecosystem\",\n",
    "                \"avalanche-ecosystem\",\n",
    "                \"solana-ecosystem\",\n",
    "                \"lending-borowing\",\n",
    "                \"blockchain-capital-portfolio\",\n",
    "                \"defiance-capital-portfolio\",\n",
    "                \"framework-ventures-portfolio\",\n",
    "                \"alameda-research-portfolio\",\n",
    "                \"pantera-capital-portfolio\",\n",
    "                \"parafi-capital\",\n",
    "                \"polygon-ecosystem\",\n",
    "                \"fantom-ecosystem\",\n",
    "                \"near-protocol-ecosystem\",\n",
    "                \"optimism-ecosystem\",\n",
    "                \"standard-crypto-portfolio\",\n",
    "                \"gnosis-chain-ecosystem\",\n",
    "                \"sora-ecosystem\",\n",
    "                \"made-in-america\",\n",
    "                \"world-liberty-financial-portfolio\"\n",
    "            ],\n",
    "            \"max_supply\": null,\n",
    "            \"circulating_supply\": 15117383.78354616,\n",
    "            \"total_supply\": 16000000,\n",
    "            \"platform\": {\n",
    "                \"id\": 1027,\n",
    "                \"name\": \"Ethereum\",\n",
    "                \"symbol\": \"ETH\",\n",
    "                \"slug\": \"ethereum\",\n",
    "                \"token_address\": \"0x7Fc66500c84A76Ad7e9c93437bFc5Ac33E2DDaE9\"\n",
    "            },\n",
    "            \"is_active\": 1,\n",
    "            \"infinite_supply\": false,\n",
    "            \"cmc_rank\": 29,\n",
    "            \"is_fiat\": 0,\n",
    "            \"self_reported_circulating_supply\": null,\n",
    "            \"self_reported_market_cap\": null,\n",
    "            \"tvl_ratio\": 0.16475695,\n",
    "            \"last_updated\": \"2025-05-20T10:02:00.000Z\",\n",
    "            \"quote\": {\n",
    "                \"USD\": {\n",
    "                    \"price\": 263.84017015481055,\n",
    "                    \"volume_24h\": 785857344.2628177,\n",
    "                    \"volume_change_24h\": 65.8107,\n",
    "                    \"percent_change_1h\": -0.41429159,\n",
    "                    \"percent_change_24h\": 19.87453336,\n",
    "                    \"percent_change_7d\": 21.27737381,\n",
    "                    \"percent_change_30d\": 89.33146056,\n",
    "                    \"percent_change_60d\": 48.82338275,\n",
    "                    \"percent_change_90d\": 3.16679539,\n",
    "                    \"market_cap\": 3988573109.7463927,\n",
    "                    \"market_cap_dominance\": 0.1199,\n",
    "                    \"fully_diluted_market_cap\": 4221442722.48,\n",
    "                    \"tvl\": 24208831266.45042,\n",
    "                    \"last_updated\": \"2025-05-20T10:02:00.000Z\"\n",
    "        \"\"\""
   ]
  },
  {
   "cell_type": "code",
   "execution_count": 71,
   "id": "e9cdb054",
   "metadata": {},
   "outputs": [],
   "source": [
    "import json\n",
    "from openai import OpenAI\n",
    "from openai import OpenAIError\n",
    "\n",
    "def grok_technical_analyzer(user_input):\n",
    "    if not user_input or not user_input.strip():\n",
    "        raise ValueError(\"Query is empty or contains only whitespace.\")\n",
    "    \n",
    "    messages = [\n",
    "        {\"role\": \"system\", \"content\": \n",
    "        \"\"\"\n",
    "        You are CryptoTA-Bot, a highly experienced cryptocurrency technical analyst. \n",
    "        Your task is to analyze any given coin or trading signal and output:\n",
    "\n",
    "        1. **Indicators Triggering Signal** (exactly 2–3 bullet points):\n",
    "        - Each bullet must name the indicator, describe the specific trigger, and concisely interpret its implication.\n",
    "        - Use data from the provided price/timeframe.\n",
    "\n",
    "        2. **Risk/Reward Ratio** (exactly 1 bullet point):\n",
    "        - Specify entry price, stop-loss, target, and compute the risk:reward ratio.\n",
    "\n",
    "        Follow these rules:\n",
    "        - Always write in clear, professional language suitable for advanced traders.\n",
    "        - Use chain-of-thought reasoning internally to verify each signal (do not show intermediate steps).\n",
    "        - Refer only to the given data (e.g., price history, volume, moving averages, RSI, MACD, Bollinger Bands).\n",
    "        - If multiple timeframes are available, prioritize daily chart analysis, then refine using a lower timeframe if needed.\n",
    "        - Do not include fundamental or news analysis—focus purely on technical indicators.\n",
    "        - Output must be exactly 3 bullets (2–3 for signals and 1 for risk/reward).\n",
    "        \n",
    "        Output format should be json:\n",
    "        {{\n",
    "        \"rsi\": \"<analyzed rsi>\",\n",
    "        \"macd\": \"<analyzed macd>\",\n",
    "        \"volume\": \"<analyzed volume>\",\n",
    "        \"risk_reward_ratio\": \"analyzed risk\",\n",
    "        \"summary\": \"<overall summary of the analysis>\",\n",
    "        }}\n",
    "        \"\"\"},\n",
    "        {\"role\": \"user\", \"content\": user_input}\n",
    "    ]\n",
    "\n",
    "    try:\n",
    "        client = OpenAI(\n",
    "            base_url=\"https://api.x.ai/v1\",\n",
    "            api_key=\"xai-3KHTzGQUPMIjTfQUmDn5DgzXqUh92KM5rIvsPKUv1zLEp7lGmNdFEyoWfJ0SvopkRjf879d1a2wZb1de\",\n",
    "        )\n",
    "\n",
    "        completion = client.chat.completions.create(\n",
    "            model=\"grok-3-mini-beta\",\n",
    "            reasoning_effort=\"low\",\n",
    "            messages=messages,\n",
    "            response_format={\"type\": \"json_object\"},\n",
    "            temperature=0.1,\n",
    "        )\n",
    "\n",
    "        response_text = completion.choices[0].message.content\n",
    "\n",
    "        try:\n",
    "            response_json = json.loads(response_text)\n",
    "        except json.JSONDecodeError:\n",
    "            raise ValueError(f\"API response is not valid JSON: {response_text}\")\n",
    "\n",
    "        return response_json\n",
    "\n",
    "    except OpenAIError as e:\n",
    "        raise RuntimeError(f\"API call failed: {str(e)}\")\n",
    "    except Exception as e:\n",
    "        raise RuntimeError(f\"Unexpected error: {str(e)}\")\n"
   ]
  },
  {
   "cell_type": "code",
   "execution_count": 72,
   "id": "02fa1916",
   "metadata": {},
   "outputs": [],
   "source": [
    "a = grok_technical_analyzer(text)"
   ]
  },
  {
   "cell_type": "code",
   "execution_count": 73,
   "id": "07ad130a",
   "metadata": {},
   "outputs": [
    {
     "data": {
      "text/plain": [
       "{'rsi': 'Based on the recent price surges, including +19.87% in 24h and +21.28% in 7d, RSI is likely above 70, indicating overbought conditions that could signal a potential pullback if momentum wanes.',\n",
       " 'macd': 'Given the sharp upward price movement, such as +89.33% in 30d, MACD likely shows a bullish crossover with the MACD line above the signal line, suggesting continued positive momentum in the short term.',\n",
       " 'volume': 'The 24h volume of 785,857,344.26 with a +65.81% increase supports the price rally, indicating strong buying interest and validation of the upward trend on the daily chart.',\n",
       " 'risk_reward_ratio': 'Entry at 263.84 USD, stop-loss at 237.46 USD (10% below entry), target at 316.61 USD (20% above entry), resulting in a risk:reward ratio of 2:1.',\n",
       " 'summary': 'AAVE displays bullish technical signals from RSI and MACD, reinforced by surging volume, pointing to potential upside on the daily chart, though overbought conditions warrant caution for risk management.'}"
      ]
     },
     "execution_count": 73,
     "metadata": {},
     "output_type": "execute_result"
    }
   ],
   "source": [
    "a"
   ]
  },
  {
   "cell_type": "markdown",
   "id": "c57fa941",
   "metadata": {},
   "source": [
    "# States"
   ]
  },
  {
   "cell_type": "code",
   "execution_count": null,
   "id": "3073a0f0",
   "metadata": {},
   "outputs": [],
   "source": []
  }
 ],
 "metadata": {
  "kernelspec": {
   "display_name": "mop",
   "language": "python",
   "name": "python3"
  },
  "language_info": {
   "codemirror_mode": {
    "name": "ipython",
    "version": 3
   },
   "file_extension": ".py",
   "mimetype": "text/x-python",
   "name": "python",
   "nbconvert_exporter": "python",
   "pygments_lexer": "ipython3",
   "version": "3.10.16"
  }
 },
 "nbformat": 4,
 "nbformat_minor": 5
}
